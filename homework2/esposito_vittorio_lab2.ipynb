{
 "cells": [
  {
   "cell_type": "markdown",
   "metadata": {},
   "source": [
    "# Kuzushiji Classification with Support Vector Machines\n",
    "\n",
    "In this notebook we are going to explore the use of Support Vector Machines (SVM) for image classification. We will use a variant of the famous MNIST dataset (the original is a dataset of handwritten digits). The version we are going to use is called Kuzushiji-MNIST or K-MNIST for short (https://github.com/rois-codh/kmnist) and is a dataset of traditional japanese handwritten kana.\n",
    "\n",
    "\n",
    "\n",
    "The dataset labels are the following:\n",
    "\n",
    "| Label | Hiragana Character | Romanji (Pronunciation) |\n",
    "| :-: | :-: | :-: |\n",
    "|   0   | お | o |\n",
    "| 1 | き | ki |\n",
    "| 2 | す | su |\n",
    "| 3 | つ | tsu |\n",
    "| 4 | な | na |\n",
    "| 5 | は | ha |\n",
    "| 6 | ま | ma |\n",
    "| 7 | や | ya |\n",
    "| 8 | れ | re |\n",
    "| 9 | を | wo |"
   ]
  },
  {
   "cell_type": "markdown",
   "metadata": {},
   "source": [
    "## TODO: Insert your surname, name and ID number\n",
    "\n",
    "Student surname: Esposito\n",
    "\n",
    "Student name: Vittorio\n",
    "    \n",
    "ID: 2005795"
   ]
  },
  {
   "cell_type": "code",
   "execution_count": 19,
   "metadata": {},
   "outputs": [],
   "source": [
    "#load the required packages\n",
    "\n",
    "%matplotlib inline  \n",
    "\n",
    "import numpy as np\n",
    "import scipy as sp\n",
    "import matplotlib.pyplot as plt\n",
    "\n",
    "import sklearn\n",
    "from sklearn.datasets import fetch_openml\n",
    "from sklearn.neural_network import MLPClassifier\n",
    "from sklearn.decomposition import PCA\n",
    "import sklearn.metrics as skm"
   ]
  },
  {
   "cell_type": "code",
   "execution_count": 20,
   "metadata": {},
   "outputs": [],
   "source": [
    "# helper function to load Kuzushiji-MNIST dataset\n",
    "def load_mnist(path, kind='train'):\n",
    "    import os\n",
    "    import gzip\n",
    "    import numpy as np\n",
    "    labels_path = os.path.join(path, 'K%s-labels-idx1-ubyte.gz' % kind)\n",
    "    images_path = os.path.join(path, 'K%s-images-idx3-ubyte.gz' % kind)\n",
    "    with gzip.open(labels_path, 'rb') as lbpath:\n",
    "        labels = np.frombuffer(lbpath.read(), dtype=np.uint8,offset=8)\n",
    "    with gzip.open(images_path, 'rb') as imgpath:\n",
    "        images = np.frombuffer(imgpath.read(), dtype=np.uint8,offset=16).reshape(len(labels), 784)\n",
    "    return images, labels"
   ]
  },
  {
   "cell_type": "code",
   "execution_count": 21,
   "metadata": {},
   "outputs": [],
   "source": [
    "#fix your ID (\"numero di matricola\") and the seed for random generator (as usual you can try different seeds)\n",
    "ID = 2005795\n",
    "np.random.seed(ID)"
   ]
  },
  {
   "cell_type": "code",
   "execution_count": 22,
   "metadata": {},
   "outputs": [
    {
     "name": "stdout",
     "output_type": "stream",
     "text": [
      "(60000, 784) (60000,)\n"
     ]
    }
   ],
   "source": [
    "#load the K-MNIST dataset from the 'data' folder and let's normalize the features so that each value is in [0,1] \n",
    "\n",
    "X, y = load_mnist('data', kind='train')\n",
    "# rescale the data\n",
    "X, y = X / 255., y # original pixel values are between 0 and 255\n",
    "print(X.shape, y.shape)"
   ]
  },
  {
   "cell_type": "markdown",
   "metadata": {},
   "source": [
    "Now split into training and test. Make sure that each label is present at least 10 times\n",
    "in training. If it is not, then keep adding permutations to the initial data until this \n",
    "happens."
   ]
  },
  {
   "cell_type": "code",
   "execution_count": 23,
   "metadata": {},
   "outputs": [
    {
     "name": "stdout",
     "output_type": "stream",
     "text": [
      "Labels in training dataset:  [0 1 2 3 4 5 6 7 8 9]\n",
      "Frequencies in training dataset:  [66 76 58 52 63 56 51 74 56 48]\n"
     ]
    }
   ],
   "source": [
    "# Random permute the data and split into training and test taking the first 600\n",
    "# data samples as training and 4000 samples as test\n",
    "permutation = np.random.permutation(X.shape[0])\n",
    "\n",
    "X = X[permutation]\n",
    "y = y[permutation]\n",
    "\n",
    "m_training = 600\n",
    "m_test = 4000\n",
    "\n",
    "X_train, X_test = X[:m_training], X[m_training:m_training+m_test:]\n",
    "y_train, y_test = y[:m_training], y[m_training:m_training+m_test:]\n",
    "\n",
    "labels, freqs = np.unique(y_train, return_counts=True)\n",
    "print(\"Labels in training dataset: \", labels)\n",
    "print(\"Frequencies in training dataset: \", freqs)\n"
   ]
  },
  {
   "cell_type": "code",
   "execution_count": 24,
   "metadata": {},
   "outputs": [],
   "source": [
    "#function for plotting a image and printing the corresponding label\n",
    "def plot_input(X_matrix, labels, index):\n",
    "    print(\"INPUT:\")\n",
    "    plt.imshow(\n",
    "        X_matrix[index].reshape(28,28),\n",
    "        cmap          = plt.cm.gray_r,\n",
    "        interpolation = \"nearest\"\n",
    "    )\n",
    "    plt.show()\n",
    "    print(\"LABEL: %i\"%labels[index])\n",
    "    return"
   ]
  },
  {
   "cell_type": "code",
   "execution_count": 25,
   "metadata": {},
   "outputs": [
    {
     "name": "stdout",
     "output_type": "stream",
     "text": [
      "INPUT:\n"
     ]
    },
    {
     "data": {
      "text/plain": "<Figure size 432x288 with 1 Axes>",
      "image/png": "[encoded data removed]"
     },
     "metadata": {
      "needs_background": "light"
     },
     "output_type": "display_data"
    },
    {
     "name": "stdout",
     "output_type": "stream",
     "text": [
      "LABEL: 8\n",
      "INPUT:\n"
     ]
    },
    {
     "data": {
      "text/plain": "<Figure size 432x288 with 1 Axes>",
      "image/png": "[encoded data removed]"
     },
     "metadata": {
      "needs_background": "light"
     },
     "output_type": "display_data"
    },
    {
     "name": "stdout",
     "output_type": "stream",
     "text": [
      "LABEL: 9\n",
      "INPUT:\n"
     ]
    },
    {
     "data": {
      "text/plain": "<Figure size 432x288 with 1 Axes>",
      "image/png": "[encoded data removed]"
     },
     "metadata": {
      "needs_background": "light"
     },
     "output_type": "display_data"
    },
    {
     "name": "stdout",
     "output_type": "stream",
     "text": [
      "LABEL: 1\n",
      "INPUT:\n"
     ]
    },
    {
     "data": {
      "text/plain": "<Figure size 432x288 with 1 Axes>",
      "image/png": "[encoded data removed]"
     },
     "metadata": {
      "needs_background": "light"
     },
     "output_type": "display_data"
    },
    {
     "name": "stdout",
     "output_type": "stream",
     "text": [
      "LABEL: 1\n"
     ]
    }
   ],
   "source": [
    "#let's try the plotting function\n",
    "plot_input(X_train,y_train,5)\n",
    "plot_input(X_test,y_test,50)\n",
    "plot_input(X_test,y_test,500)\n",
    "plot_input(X_test,y_test,700)"
   ]
  },
  {
   "cell_type": "markdown",
   "metadata": {},
   "source": [
    "## TO DO 1\n",
    "Use a SVM classifier with cross validation to pick a model. Use a 4-fold cross-validation. Let's start with a Linear kernel:"
   ]
  },
  {
   "cell_type": "code",
   "execution_count": 26,
   "metadata": {},
   "outputs": [
    {
     "name": "stdout",
     "output_type": "stream",
     "text": [
      "RESULTS FOR LINEAR KERNEL \n",
      " {'mean_fit_time': array([0.07975626, 0.06049299, 0.04999733, 0.05250216]), 'std_fit_time': array([0.03060522, 0.01708861, 0.00122432, 0.00439138]), 'mean_score_time': array([0.03098935, 0.0235014 , 0.02250391, 0.02450639]), 'std_score_time': array([0.01038415, 0.00086487, 0.00050339, 0.00259134]), 'param_C': masked_array(data=[0.01, 0.1, 1, 10],\n",
      "             mask=[False, False, False, False],\n",
      "       fill_value='?',\n",
      "            dtype=object), 'params': [{'C': 0.01}, {'C': 0.1}, {'C': 1}, {'C': 10}], 'split0_test_score': array([0.67333333, 0.69333333, 0.69333333, 0.69333333]), 'split1_test_score': array([0.7 , 0.72, 0.72, 0.72]), 'split2_test_score': array([0.7       , 0.68666667, 0.68666667, 0.68666667]), 'split3_test_score': array([0.74      , 0.76666667, 0.76666667, 0.76666667]), 'mean_test_score': array([0.70333333, 0.71666667, 0.71666667, 0.71666667]), 'std_test_score': array([0.02380476, 0.0314466 , 0.0314466 , 0.0314466 ]), 'rank_test_score': array([4, 1, 1, 1])} \n",
      "\n",
      "Best parameters set found: \n",
      " {'C': 0.1} \n",
      "\n",
      "Score with best parameters: \n",
      " 0.7166666666666667 \n",
      "\n",
      "All scores on the grid:\n",
      "\n",
      " [0.67333333 0.69333333 0.69333333 0.69333333]\n",
      "\n",
      " [0.7  0.72 0.72 0.72]\n",
      "\n",
      " [0.7        0.68666667 0.68666667 0.68666667]\n",
      "\n",
      " [0.74       0.76666667 0.76666667 0.76666667]\n"
     ]
    }
   ],
   "source": [
    "#import SVC\n",
    "from sklearn.svm import SVC\n",
    "#import for Cross-Validation\n",
    "from sklearn.model_selection import GridSearchCV\n",
    "\n",
    "# parameters for linear SVM\n",
    "parameters = {'C': [0.01, 0.1, 1, 10]}\n",
    "\n",
    "#train linear SVM\n",
    "linear = GridSearchCV(SVC(kernel ='linear'), parameters, cv = 4).fit(X_train, y_train)\n",
    "\n",
    "print ('RESULTS FOR LINEAR KERNEL', '\\n', linear.cv_results_, '\\n')\n",
    "\n",
    "print(\"Best parameters set found:\", '\\n', linear.best_params_, '\\n')\n",
    "\n",
    "print(\"Score with best parameters:\", '\\n', linear.best_score_, '\\n')\n",
    "\n",
    "print(\"All scores on the grid:\")\n",
    "print('\\n', linear.cv_results_['split0_test_score'])\n",
    "print('\\n', linear.cv_results_['split1_test_score'])\n",
    "print('\\n', linear.cv_results_['split2_test_score'])\n",
    "print('\\n', linear.cv_results_['split3_test_score'])"
   ]
  },
  {
   "cell_type": "markdown",
   "metadata": {},
   "source": [
    "## TO DO 2\n",
    "Pick a model for the Polynomial kernel with degree=2:"
   ]
  },
  {
   "cell_type": "code",
   "execution_count": 18,
   "metadata": {},
   "outputs": [
    {
     "name": "stdout",
     "output_type": "stream",
     "text": [
      "RESULTS FOR POLY DEGREE=2 KERNEL \n",
      " {'mean_fit_time': array([0.17325354, 0.06525242, 0.06849808, 0.06874514, 0.05899757,\n",
      "       0.05874759, 0.05850315, 0.05976611, 0.06050152]), 'std_fit_time': array([0.17192617, 0.00544886, 0.00335469, 0.00383454, 0.00211945,\n",
      "       0.00178562, 0.0021808 , 0.00237328, 0.00390485]), 'mean_score_time': array([0.0332458 , 0.0254972 , 0.02325064, 0.02650017, 0.02200073,\n",
      "       0.02175814, 0.02349663, 0.02174515, 0.02299583]), 'std_score_time': array([0.00348983, 0.00269449, 0.00043425, 0.00111729, 0.00122427,\n",
      "       0.00083171, 0.00165755, 0.00083166, 0.00157835]), 'param_C': masked_array(data=[0.01, 0.01, 0.01, 0.1, 0.1, 0.1, 1, 1, 1],\n",
      "             mask=[False, False, False, False, False, False, False, False,\n",
      "                   False],\n",
      "       fill_value='?',\n",
      "            dtype=object), 'param_gamma': masked_array(data=[0.01, 0.1, 1, 0.01, 0.1, 1, 0.01, 0.1, 1],\n",
      "             mask=[False, False, False, False, False, False, False, False,\n",
      "                   False],\n",
      "       fill_value='?',\n",
      "            dtype=object), 'params': [{'C': 0.01, 'gamma': 0.01}, {'C': 0.01, 'gamma': 0.1}, {'C': 0.01, 'gamma': 1}, {'C': 0.1, 'gamma': 0.01}, {'C': 0.1, 'gamma': 0.1}, {'C': 0.1, 'gamma': 1}, {'C': 1, 'gamma': 0.01}, {'C': 1, 'gamma': 0.1}, {'C': 1, 'gamma': 1}], 'split0_test_score': array([0.12666667, 0.74      , 0.78666667, 0.35333333, 0.78666667,\n",
      "       0.78666667, 0.74      , 0.78666667, 0.78666667]), 'split1_test_score': array([0.12666667, 0.73333333, 0.74666667, 0.39333333, 0.74666667,\n",
      "       0.74666667, 0.73333333, 0.74666667, 0.74666667]), 'split2_test_score': array([0.12666667, 0.70666667, 0.69333333, 0.4       , 0.69333333,\n",
      "       0.69333333, 0.70666667, 0.69333333, 0.69333333]), 'split3_test_score': array([0.12666667, 0.76      , 0.78      , 0.41333333, 0.78      ,\n",
      "       0.78      , 0.76      , 0.78      , 0.78      ]), 'mean_test_score': array([0.12666667, 0.735     , 0.75166667, 0.39      , 0.75166667,\n",
      "       0.75166667, 0.735     , 0.75166667, 0.75166667]), 'std_test_score': array([0.        , 0.01907587, 0.03693087, 0.02236068, 0.03693087,\n",
      "       0.03693087, 0.01907587, 0.03693087, 0.03693087]), 'rank_test_score': array([9, 6, 1, 8, 1, 1, 6, 1, 1])} \n",
      "\n",
      "Best parameters set found: \n",
      " {'C': 0.01, 'gamma': 1} \n",
      "\n",
      "Score with best parameters: \n",
      " 0.7516666666666667 \n",
      "\n",
      "\n",
      "All scores on the grid:\n",
      "\n",
      " [0.12666667 0.74       0.78666667 0.35333333 0.78666667 0.78666667\n",
      " 0.74       0.78666667 0.78666667]\n",
      "\n",
      " [0.12666667 0.73333333 0.74666667 0.39333333 0.74666667 0.74666667\n",
      " 0.73333333 0.74666667 0.74666667]\n",
      "\n",
      " [0.12666667 0.70666667 0.69333333 0.4        0.69333333 0.69333333\n",
      " 0.70666667 0.69333333 0.69333333]\n",
      "\n",
      " [0.12666667 0.76       0.78       0.41333333 0.78       0.78\n",
      " 0.76       0.78       0.78      ]\n"
     ]
    }
   ],
   "source": [
    "# parameters for poly with degree 2 kernel\n",
    "parameters = {'C': [0.01, 0.1, 1],'gamma':[0.01,0.1,1]}\n",
    "\n",
    "#run SVM with poly of degree 2 kernel\n",
    "poly = GridSearchCV(SVC(kernel = 'poly', degree = 2), parameters, cv = 4).fit(X_train, y_train)\n",
    "\n",
    "print ('RESULTS FOR POLY DEGREE=2 KERNEL', '\\n', poly.cv_results_, '\\n')\n",
    "\n",
    "print(\"Best parameters set found:\", '\\n', poly.best_params_, '\\n')\n",
    "\n",
    "print(\"Score with best parameters:\", '\\n', poly.best_score_, '\\n')\n",
    "\n",
    "print(\"\\nAll scores on the grid:\")\n",
    "print('\\n', poly.cv_results_['split0_test_score'])\n",
    "print('\\n', poly.cv_results_['split1_test_score'])\n",
    "print('\\n', poly.cv_results_['split2_test_score'])\n",
    "print('\\n', poly.cv_results_['split3_test_score'])"
   ]
  },
  {
   "cell_type": "markdown",
   "metadata": {},
   "source": [
    "## TO DO 3\n",
    "\n",
    "Now let's try a higher degree for the polynomial kernel (e.g., 3rd degree)."
   ]
  },
  {
   "cell_type": "code",
   "execution_count": 27,
   "metadata": {},
   "outputs": [
    {
     "name": "stdout",
     "output_type": "stream",
     "text": [
      "RESULTS FOR POLY DEGREE= 3  KERNEL \n",
      " {'mean_fit_time': array([0.09749937, 0.07524633, 0.0727545 , 0.07424855, 0.07550639,\n",
      "       0.08074737, 0.06925082, 0.07250184, 0.06799805]), 'std_fit_time': array([0.0275762 , 0.00449466, 0.00178288, 0.00044072, 0.00554758,\n",
      "       0.00915339, 0.00108885, 0.00149163, 0.0042976 ]), 'mean_score_time': array([0.09924918, 0.02300102, 0.02350378, 0.02725184, 0.02774501,\n",
      "       0.02800196, 0.02449721, 0.0232572 , 0.02226537]), 'std_score_time': array([0.11418512, 0.00099868, 0.00049678, 0.00043136, 0.00327105,\n",
      "       0.00291396, 0.00050266, 0.0008296 , 0.00083579]), 'param_C': masked_array(data=[0.01, 0.01, 0.01, 0.1, 0.1, 0.1, 1, 1, 1],\n",
      "             mask=[False, False, False, False, False, False, False, False,\n",
      "                   False],\n",
      "       fill_value='?',\n",
      "            dtype=object), 'param_gamma': masked_array(data=[0.01, 0.1, 1, 0.01, 0.1, 1, 0.01, 0.1, 1],\n",
      "             mask=[False, False, False, False, False, False, False, False,\n",
      "                   False],\n",
      "       fill_value='?',\n",
      "            dtype=object), 'params': [{'C': 0.01, 'gamma': 0.01}, {'C': 0.01, 'gamma': 0.1}, {'C': 0.01, 'gamma': 1}, {'C': 0.1, 'gamma': 0.01}, {'C': 0.1, 'gamma': 0.1}, {'C': 0.1, 'gamma': 1}, {'C': 1, 'gamma': 0.01}, {'C': 1, 'gamma': 0.1}, {'C': 1, 'gamma': 1}], 'split0_test_score': array([0.12666667, 0.65333333, 0.65333333, 0.29333333, 0.65333333,\n",
      "       0.65333333, 0.66      , 0.65333333, 0.65333333]), 'split1_test_score': array([0.12666667, 0.7       , 0.68      , 0.30666667, 0.68      ,\n",
      "       0.68      , 0.68      , 0.68      , 0.68      ]), 'split2_test_score': array([0.12666667, 0.64666667, 0.64666667, 0.30666667, 0.64666667,\n",
      "       0.64666667, 0.64      , 0.64666667, 0.64666667]), 'split3_test_score': array([0.12666667, 0.74      , 0.71333333, 0.34      , 0.71333333,\n",
      "       0.71333333, 0.72      , 0.71333333, 0.71333333]), 'mean_test_score': array([0.12666667, 0.685     , 0.67333333, 0.31166667, 0.67333333,\n",
      "       0.67333333, 0.675     , 0.67333333, 0.67333333]), 'std_test_score': array([0.        , 0.03782269, 0.02624669, 0.01724013, 0.02624669,\n",
      "       0.02624669, 0.0295804 , 0.02624669, 0.02624669]), 'rank_test_score': array([9, 1, 3, 8, 3, 3, 2, 3, 3])} \n",
      "\n",
      "Best parameters set found: \n",
      " {'C': 0.01, 'gamma': 0.1} \n",
      "\n",
      "Score with best parameters: \n",
      " 0.685 \n",
      "\n",
      "\n",
      "All scores on the grid:\n",
      "\n",
      " [0.12666667 0.65333333 0.65333333 0.29333333 0.65333333 0.65333333\n",
      " 0.66       0.65333333 0.65333333]\n",
      "\n",
      " [0.12666667 0.7        0.68       0.30666667 0.68       0.68\n",
      " 0.68       0.68       0.68      ]\n",
      "\n",
      " [0.12666667 0.64666667 0.64666667 0.30666667 0.64666667 0.64666667\n",
      " 0.64       0.64666667 0.64666667]\n",
      "\n",
      " [0.12666667 0.74       0.71333333 0.34       0.71333333 0.71333333\n",
      " 0.72       0.71333333 0.71333333]\n"
     ]
    }
   ],
   "source": [
    "# parameters for poly with higher degree kernel\n",
    "parameters = {'C': [0.01, 0.1, 1],'gamma':[0.01,0.1,1]}\n",
    "\n",
    "#run SVM with poly of higher degree kernel\n",
    "degree = 3\n",
    "\n",
    "poly = GridSearchCV(SVC(kernel = 'poly', degree = degree), parameters, cv = 4).fit(X_train, y_train)\n",
    "\n",
    "print ('RESULTS FOR POLY DEGREE=', degree, ' KERNEL', '\\n', poly.cv_results_, '\\n')\n",
    "\n",
    "print(\"Best parameters set found:\", '\\n', poly.best_params_, '\\n')\n",
    "\n",
    "print(\"Score with best parameters:\", '\\n', poly.best_score_, '\\n')\n",
    "\n",
    "print(\"\\nAll scores on the grid:\")\n",
    "print('\\n', poly.cv_results_['split0_test_score'])\n",
    "print('\\n', poly.cv_results_['split1_test_score'])\n",
    "print('\\n', poly.cv_results_['split2_test_score'])\n",
    "print('\\n', poly.cv_results_['split3_test_score'])"
   ]
  },
  {
   "cell_type": "markdown",
   "metadata": {},
   "source": [
    "## TO DO 4\n",
    "Pick a model for the Radial Basis Function kernel:"
   ]
  },
  {
   "cell_type": "code",
   "execution_count": null,
   "metadata": {},
   "outputs": [],
   "source": [
    "# parameters for rbf SVM\n",
    "parameters = {'C': [0.1, 1, 10, 100],'gamma':[0.001, 0.01, 0.1,1]}\n",
    "\n",
    "#run SVM with rbf kernel\n",
    "\n",
    "# ADD YOUR CODE\n",
    "\n",
    "print ('RESULTS FOR rbf KERNEL')\n",
    "\n",
    "print(\"Best parameters set found:\")\n",
    "# ADD YOUR CODE\n",
    "\n",
    "print(\"Score with best parameters:\")\n",
    "# ADD YOUR CODE\n",
    "\n",
    "print(\"\\nAll scores on the grid:\")\n",
    "# ADD YOUR CODE"
   ]
  },
  {
   "cell_type": "markdown",
   "metadata": {},
   "source": [
    "## QUESTION 1\n",
    "What do you observe when using linear, polynomial and RBF kernels on this dataset ?"
   ]
  },
  {
   "cell_type": "markdown",
   "metadata": {},
   "source": [
    "## TO DO 5\n",
    "Report here the best SVM kernel and parameters"
   ]
  },
  {
   "cell_type": "code",
   "execution_count": null,
   "metadata": {},
   "outputs": [],
   "source": [
    "#get training and test error for the best SVM model from CV\n",
    "best_SVM = # USE YOUR OPTIMAL PARAMETERS\n",
    "\n",
    "# ADD YOUR CODE\n",
    "\n",
    "# (error is 1 - svm.score)\n",
    "\n",
    "print (\"Best SVM training error: %f\" % training_error)\n",
    "print (\"Best SVM test error: %f\" % test_error)"
   ]
  },
  {
   "cell_type": "markdown",
   "metadata": {},
   "source": [
    "## TO DO 6\n",
    "\n",
    "Analyze how the gamma parameter (inversely proportional to standard deviation of Gaussian Kernel) impact the performances of the classifier"
   ]
  },
  {
   "cell_type": "code",
   "execution_count": null,
   "metadata": {},
   "outputs": [],
   "source": [
    "#Test with different values of gamma\n",
    "\n",
    "# Set gamma values\n",
    "gamma_values = np.logspace(-5,2,8)\n",
    "print(gamma_values)\n"
   ]
  },
  {
   "cell_type": "code",
   "execution_count": null,
   "metadata": {},
   "outputs": [],
   "source": [
    "# Try the SVM with the previously set values of gamma\n",
    "# use rbf kernel and C=1\n",
    "\n",
    "train_acc_list, test_acc_list = [], []\n",
    "\n",
    "    \n",
    "# ADD YOUR CODE TO TRAIN THE SVM MULTIPLE TIMES WITH THE DIFFERENT VALUES OF GAMMA\n",
    "# PLACE THE TRAIN AND TEST ACCURACY FOR EACH TEST IN THE TRAIN AND TEST ACCURACY LISTS\n",
    "\n",
    "# Plot\n",
    "fig, ax = plt.subplots(1,2, figsize=(15,5))\n",
    "\n",
    "ax[0].plot(gamma_values, train_acc_list)\n",
    "ax[0].set_xscale('log')\n",
    "ax[0].set_xlabel('gamma')\n",
    "ax[0].set_ylabel('Train accuracy')\n",
    "ax[0].grid(True)\n",
    "\n",
    "ax[1].plot(gamma_values, test_acc_list)\n",
    "ax[1].set_xscale('log')\n",
    "ax[1].set_xlabel('gamma')\n",
    "ax[1].set_ylabel('Test accuracy')\n",
    "ax[1].grid(True)\n",
    "\n",
    "\n",
    "plt.show()"
   ]
  },
  {
   "cell_type": "markdown",
   "metadata": {},
   "source": [
    "## QUESTION 2\n",
    "How do the train and test error change when changing gamma ? Which is the best value of gamma ? \n",
    "Connect your answers to the discussion about the overfitting issue."
   ]
  },
  {
   "cell_type": "markdown",
   "metadata": {},
   "source": [
    "## More data\n",
    "Now let's do the same but using more data points for training.\n",
    "\n",
    "\n",
    "Choose a new number of data points."
   ]
  },
  {
   "cell_type": "code",
   "execution_count": null,
   "metadata": {},
   "outputs": [],
   "source": [
    "X = X[permutation]\n",
    "y = y[permutation]\n",
    "\n",
    "m_training = 2000 # TODO number of data points, adjust depending on the capabilities of your PC\n",
    "\n",
    "X_train, X_test = X[:m_training], X[m_training:]\n",
    "y_train, y_test = y[:m_training], y[m_training:]\n",
    "\n",
    "labels, freqs = np.unique(y_train, return_counts=True)\n",
    "print(\"Labels in training dataset: \", labels)\n",
    "print(\"Frequencies in training dataset: \", freqs)"
   ]
  },
  {
   "cell_type": "markdown",
   "metadata": {},
   "source": [
    "## TO DO 7\n",
    "\n",
    "Let's try to use SVM with parameters obtained from the best model for $m_{training} =  2000$. Since it may take a long time to run, you can decide to just let it run for some time and stop it if it does not complete. If you decide to do this, report it in the cell below."
   ]
  },
  {
   "cell_type": "code",
   "execution_count": null,
   "metadata": {
    "scrolled": true
   },
   "outputs": [],
   "source": [
    "#get training and test error for the best SVM model from CV\n",
    "\n",
    "# ADD YOUR CODE\n",
    "\n",
    "print (\"Best SVM training error: %f\" % training_error)\n",
    "print (\"Best SVM test error: %f\" % test_error)"
   ]
  },
  {
   "cell_type": "markdown",
   "metadata": {},
   "source": [
    "Just for comparison, let's also use logistic regression \n",
    "\n",
    "## TO DO 8 Try first without regularization (use a very large large C)¶"
   ]
  },
  {
   "cell_type": "code",
   "execution_count": null,
   "metadata": {},
   "outputs": [],
   "source": [
    "from sklearn import linear_model\n",
    "\n",
    "# ADD YOUR CODE\n",
    "\n",
    "print (\"Best logistic regression training error: %f\" % training_error)\n",
    "print (\"Best logistic regression test error: %f\" % test_error)"
   ]
  },
  {
   "cell_type": "markdown",
   "metadata": {},
   "source": [
    "## TO DO 9 Try  with regularization (use C=1)¶"
   ]
  },
  {
   "cell_type": "code",
   "execution_count": null,
   "metadata": {},
   "outputs": [],
   "source": [
    "# ADD YOUR CODE\n",
    "\n",
    "print (\"Best regularized logistic regression training error: %f\" % training_error)\n",
    "print (\"Best regularized logistic regression test error: %f\" % test_error)"
   ]
  },
  {
   "cell_type": "markdown",
   "metadata": {},
   "source": [
    "## QUESTION 3\n",
    "Compare and discuss:\n",
    "- the results from SVM with m=600 and with m=2000 training data points. If you stopped the SVM, include such aspect in your comparison.\n",
    "- the results of SVM and of Logistic Regression"
   ]
  },
  {
   "cell_type": "markdown",
   "metadata": {},
   "source": [
    "## TO DO 10\n",
    "Plot an item of clothing that is missclassified by logistic regression and correctly classified by SVM."
   ]
  },
  {
   "cell_type": "code",
   "execution_count": null,
   "metadata": {},
   "outputs": [],
   "source": [
    "LR_prediction = # ADD CODE\n",
    "SVM_prediction = # ADD CODE\n",
    "\n",
    "# ADD CODE"
   ]
  },
  {
   "cell_type": "markdown",
   "metadata": {},
   "source": [
    "## TO DO 11\n",
    "Plot the confusion matrix for the SVM classifier and for logistic regression.\n",
    "The confusion matrix has one column for each predicted label and one row for each true label. \n",
    "It shows for each class in the corresponding row how many samples belonging to that class gets each possible output label.\n",
    "Notice that the diagonal contains the correctly classified samples, while the other cells correspond to errors.\n",
    "You can obtain it with the sklearn.metrics.confusion_matrix function (see the documentation).\n",
    "Try also to normalize the confusion matrix by the number of samples in each class in order to measure the accuracy on each single class.\n"
   ]
  },
  {
   "cell_type": "code",
   "execution_count": null,
   "metadata": {},
   "outputs": [],
   "source": [
    "np.set_printoptions(precision=2, suppress=True) # for better aligned printing of confusion matrix use floatmode='fixed'\n",
    "\n",
    "u, counts = np.unique(y_test, return_counts=True)\n",
    "print(\"Labels and frequencies in test set: \", counts)\n",
    "\n",
    "confusion_SVM = # ADD CODE\n",
    "print(\"\\n Confusion matrix SVM  \\n \\n\", confusion_SVM)\n",
    "print(\"\\n Confusion matrix SVM (normalized)   \\n \\n\", confusion_SVM /counts[:,None] )\n",
    "\n",
    "confusion_LR =  # ADD CODE\n",
    "print(\"\\n Confusion matrix LR  \\n \\n\", confusion_LR)\n",
    "print(\"\\n Confusion matrix LR (normalized)   \\n \\n\", confusion_LR /counts[:,None] )"
   ]
  },
  {
   "cell_type": "code",
   "execution_count": null,
   "metadata": {},
   "outputs": [],
   "source": [
    "# ADD CODE TO NORMALIZE CONFUSION MATRIX AND PRINT THE NORMALIZED MATRIX\n"
   ]
  },
  {
   "cell_type": "markdown",
   "metadata": {},
   "source": [
    "## QUESTION 4\n",
    "Have a look at the confusion matrices and comment on the obtained accuracies. Why some classes have lower accuracies and others an higher one ? Make some guesses on the possible causes.\n"
   ]
  },
  {
   "cell_type": "code",
   "execution_count": null,
   "metadata": {},
   "outputs": [],
   "source": []
  }
 ],
 "metadata": {
  "kernelspec": {
   "name": "pycharm-e499d0c9",
   "language": "python",
   "display_name": "PyCharm (machine-learning-exercises)"
  },
  "language_info": {
   "codemirror_mode": {
    "name": "ipython",
    "version": 3
   },
   "file_extension": ".py",
   "mimetype": "text/x-python",
   "name": "python",
   "nbconvert_exporter": "python",
   "pygments_lexer": "ipython3",
   "version": "3.8.5"
  }
 },
 "nbformat": 4,
 "nbformat_minor": 4
}