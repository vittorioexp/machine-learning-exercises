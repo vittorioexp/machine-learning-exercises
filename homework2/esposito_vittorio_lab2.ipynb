{
 "cells": [
  {
   "cell_type": "markdown",
   "metadata": {},
   "source": [
    "# Kuzushiji Classification with Support Vector Machines\n",
    "\n",
    "In this notebook we are going to explore the use of Support Vector Machines (SVM) for image classification. We will use a variant of the famous MNIST dataset (the original is a dataset of handwritten digits). The version we are going to use is called Kuzushiji-MNIST or K-MNIST for short (https://github.com/rois-codh/kmnist) and is a dataset of traditional japanese handwritten kana.\n",
    "\n",
    "\n",
    "\n",
    "The dataset labels are the following:\n",
    "\n",
    "| Label | Hiragana Character | Romanji (Pronunciation) |\n",
    "| :-: | :-: | :-: |\n",
    "|   0   | お | o |\n",
    "| 1 | き | ki |\n",
    "| 2 | す | su |\n",
    "| 3 | つ | tsu |\n",
    "| 4 | な | na |\n",
    "| 5 | は | ha |\n",
    "| 6 | ま | ma |\n",
    "| 7 | や | ya |\n",
    "| 8 | れ | re |\n",
    "| 9 | を | wo |"
   ]
  },
  {
   "cell_type": "markdown",
   "metadata": {},
   "source": [
    "## TODO: Insert your surname, name and ID number\n",
    "\n",
    "Student surname: Esposito\n",
    "\n",
    "Student name: Vittorio\n",
    "    \n",
    "ID: 2005795"
   ]
  },
  {
   "cell_type": "code",
   "execution_count": 1,
   "metadata": {},
   "outputs": [],
   "source": [
    "#load the required packages\n",
    "\n",
    "%matplotlib inline  \n",
    "\n",
    "import numpy as np\n",
    "import scipy as sp\n",
    "import matplotlib.pyplot as plt\n",
    "\n",
    "import sklearn\n",
    "from sklearn.datasets import fetch_openml\n",
    "from sklearn.neural_network import MLPClassifier\n",
    "from sklearn.decomposition import PCA\n",
    "import sklearn.metrics as skm"
   ]
  },
  {
   "cell_type": "code",
   "execution_count": 2,
   "metadata": {},
   "outputs": [],
   "source": [
    "# helper function to load Kuzushiji-MNIST dataset\n",
    "def load_mnist(path, kind='train'):\n",
    "    import os\n",
    "    import gzip\n",
    "    import numpy as np\n",
    "    labels_path = os.path.join(path, 'K%s-labels-idx1-ubyte.gz' % kind)\n",
    "    images_path = os.path.join(path, 'K%s-images-idx3-ubyte.gz' % kind)\n",
    "    with gzip.open(labels_path, 'rb') as lbpath:\n",
    "        labels = np.frombuffer(lbpath.read(), dtype=np.uint8,offset=8)\n",
    "    with gzip.open(images_path, 'rb') as imgpath:\n",
    "        images = np.frombuffer(imgpath.read(), dtype=np.uint8,offset=16).reshape(len(labels), 784)\n",
    "    return images, labels"
   ]
  },
  {
   "cell_type": "code",
   "execution_count": 3,
   "metadata": {},
   "outputs": [],
   "source": [
    "#fix your ID (\"numero di matricola\") and the seed for random generator (as usual you can try different seeds)\n",
    "ID = 2005795\n",
    "np.random.seed(ID)"
   ]
  },
  {
   "cell_type": "code",
   "execution_count": 4,
   "metadata": {},
   "outputs": [
    {
     "name": "stdout",
     "output_type": "stream",
     "text": [
      "(60000, 784) (60000,)\n"
     ]
    }
   ],
   "source": [
    "#load the K-MNIST dataset from the 'data' folder and let's normalize the features so that each value is in [0,1] \n",
    "\n",
    "X, y = load_mnist('data', kind='train')\n",
    "# rescale the data\n",
    "X, y = X / 255., y # original pixel values are between 0 and 255\n",
    "print(X.shape, y.shape)"
   ]
  },
  {
   "cell_type": "markdown",
   "metadata": {},
   "source": [
    "Now split into training and test. Make sure that each label is present at least 10 times\n",
    "in training. If it is not, then keep adding permutations to the initial data until this \n",
    "happens."
   ]
  },
  {
   "cell_type": "code",
   "execution_count": 5,
   "metadata": {},
   "outputs": [
    {
     "name": "stdout",
     "output_type": "stream",
     "text": [
      "Labels in training dataset:  [0 1 2 3 4 5 6 7 8 9]\n",
      "Frequencies in training dataset:  [66 76 58 52 63 56 51 74 56 48]\n"
     ]
    }
   ],
   "source": [
    "# Random permute the data and split into training and test taking the first 600\n",
    "# data samples as training and 4000 samples as test\n",
    "permutation = np.random.permutation(X.shape[0])\n",
    "\n",
    "X = X[permutation]\n",
    "y = y[permutation]\n",
    "\n",
    "m_training = 600\n",
    "m_test = 4000\n",
    "\n",
    "X_train, X_test = X[:m_training], X[m_training:m_training+m_test:]\n",
    "y_train, y_test = y[:m_training], y[m_training:m_training+m_test:]\n",
    "\n",
    "labels, freqs = np.unique(y_train, return_counts=True)\n",
    "print(\"Labels in training dataset: \", labels)\n",
    "print(\"Frequencies in training dataset: \", freqs)\n"
   ]
  },
  {
   "cell_type": "code",
   "execution_count": 6,
   "metadata": {},
   "outputs": [],
   "source": [
    "#function for plotting a image and printing the corresponding label\n",
    "def plot_input(X_matrix, labels, index):\n",
    "    print(\"INPUT:\")\n",
    "    plt.imshow(\n",
    "        X_matrix[index].reshape(28,28),\n",
    "        cmap          = plt.cm.gray_r,\n",
    "        interpolation = \"nearest\"\n",
    "    )\n",
    "    plt.show()\n",
    "    print(\"LABEL: %i\"%labels[index])\n",
    "    return"
   ]
  },
  {
   "cell_type": "code",
   "execution_count": 7,
   "metadata": {},
   "outputs": [
    {
     "name": "stdout",
     "output_type": "stream",
     "text": [
      "INPUT:\n"
     ]
    },
    {
     "data": {
      "text/plain": "<Figure size 432x288 with 1 Axes>",
      "image/png": "[encoded data removed]"
     },
     "metadata": {
      "needs_background": "light"
     },
     "output_type": "display_data"
    },
    {
     "name": "stdout",
     "output_type": "stream",
     "text": [
      "LABEL: 8\n",
      "INPUT:\n"
     ]
    },
    {
     "data": {
      "text/plain": "<Figure size 432x288 with 1 Axes>",
      "image/png": "[encoded data removed]"
     },
     "metadata": {
      "needs_background": "light"
     },
     "output_type": "display_data"
    },
    {
     "name": "stdout",
     "output_type": "stream",
     "text": [
      "LABEL: 9\n",
      "INPUT:\n"
     ]
    },
    {
     "data": {
      "text/plain": "<Figure size 432x288 with 1 Axes>",
      "image/png": "[encoded data removed]"
     },
     "metadata": {
      "needs_background": "light"
     },
     "output_type": "display_data"
    },
    {
     "name": "stdout",
     "output_type": "stream",
     "text": [
      "LABEL: 1\n",
      "INPUT:\n"
     ]
    },
    {
     "data": {
      "text/plain": "<Figure size 432x288 with 1 Axes>",
      "image/png": "[encoded data removed]"
     },
     "metadata": {
      "needs_background": "light"
     },
     "output_type": "display_data"
    },
    {
     "name": "stdout",
     "output_type": "stream",
     "text": [
      "LABEL: 1\n"
     ]
    }
   ],
   "source": [
    "#let's try the plotting function\n",
    "plot_input(X_train,y_train,5)\n",
    "plot_input(X_test,y_test,50)\n",
    "plot_input(X_test,y_test,500)\n",
    "plot_input(X_test,y_test,700)"
   ]
  },
  {
   "cell_type": "markdown",
   "metadata": {},
   "source": [
    "## TO DO 1\n",
    "Use a SVM classifier with cross validation to pick a model. Use a 4-fold cross-validation. Let's start with a Linear kernel:"
   ]
  },
  {
   "cell_type": "code",
   "execution_count": 8,
   "metadata": {},
   "outputs": [
    {
     "name": "stdout",
     "output_type": "stream",
     "text": [
      "RESULTS FOR LINEAR KERNEL \n",
      " {'mean_fit_time': array([0.0992586 , 0.11300695, 0.13374954, 0.07774693]), 'std_fit_time': array([0.00326597, 0.00977461, 0.0158652 , 0.01329195]), 'mean_score_time': array([0.04774362, 0.0437479 , 0.05175185, 0.03050053]), 'std_score_time': array([0.00249651, 0.00319269, 0.00884313, 0.00540806]), 'param_C': masked_array(data=[0.01, 0.1, 1, 10],\n",
      "             mask=[False, False, False, False],\n",
      "       fill_value='?',\n",
      "            dtype=object), 'params': [{'C': 0.01}, {'C': 0.1}, {'C': 1}, {'C': 10}], 'split0_test_score': array([0.67333333, 0.69333333, 0.69333333, 0.69333333]), 'split1_test_score': array([0.7 , 0.72, 0.72, 0.72]), 'split2_test_score': array([0.7       , 0.68666667, 0.68666667, 0.68666667]), 'split3_test_score': array([0.74      , 0.76666667, 0.76666667, 0.76666667]), 'mean_test_score': array([0.70333333, 0.71666667, 0.71666667, 0.71666667]), 'std_test_score': array([0.02380476, 0.0314466 , 0.0314466 , 0.0314466 ]), 'rank_test_score': array([4, 1, 1, 1])} \n",
      "\n",
      "Best parameters set found: \n",
      " {'C': 0.1} \n",
      "\n",
      "Score with best parameters: \n",
      " 0.7166666666666667 \n",
      "\n",
      "All scores on the grid:\n",
      "\n",
      " [0.67333333 0.69333333 0.69333333 0.69333333]\n",
      "\n",
      " [0.7  0.72 0.72 0.72]\n",
      "\n",
      " [0.7        0.68666667 0.68666667 0.68666667]\n",
      "\n",
      " [0.74       0.76666667 0.76666667 0.76666667]\n"
     ]
    }
   ],
   "source": [
    "#import SVC\n",
    "from sklearn.svm import SVC\n",
    "#import for Cross-Validation\n",
    "from sklearn.model_selection import GridSearchCV\n",
    "\n",
    "# parameters for linear SVM\n",
    "parameters = {'C': [0.01, 0.1, 1, 10]}\n",
    "\n",
    "#train linear SVM\n",
    "linear = GridSearchCV(SVC(kernel ='linear'), parameters, cv = 4).fit(X_train, y_train)\n",
    "\n",
    "print ('RESULTS FOR LINEAR KERNEL', '\\n', linear.cv_results_, '\\n')\n",
    "\n",
    "print(\"Best parameters set found:\", '\\n', linear.best_params_, '\\n')\n",
    "\n",
    "print(\"Score with best parameters:\", '\\n', linear.best_score_, '\\n')\n",
    "\n",
    "print(\"All scores on the grid:\")\n",
    "print('\\n', linear.cv_results_['split0_test_score'])\n",
    "print('\\n', linear.cv_results_['split1_test_score'])\n",
    "print('\\n', linear.cv_results_['split2_test_score'])\n",
    "print('\\n', linear.cv_results_['split3_test_score'])"
   ]
  },
  {
   "cell_type": "markdown",
   "metadata": {},
   "source": [
    "## TO DO 2\n",
    "Pick a model for the Polynomial kernel with degree=2:"
   ]
  },
  {
   "cell_type": "code",
   "execution_count": 9,
   "metadata": {},
   "outputs": [
    {
     "name": "stdout",
     "output_type": "stream",
     "text": [
      "RESULTS FOR POLY DEGREE=2 KERNEL \n",
      " {'mean_fit_time': array([0.06524658, 0.05400383, 0.06675726, 0.06499469, 0.06100851,\n",
      "       0.07026178, 0.07576054, 0.07525134, 0.07849789]), 'std_fit_time': array([0.00163686, 0.00157556, 0.00601691, 0.00291823, 0.00324139,\n",
      "       0.00887324, 0.00310927, 0.00369998, 0.00817   ]), 'mean_score_time': array([0.02625233, 0.02324551, 0.02399433, 0.02375436, 0.01699948,\n",
      "       0.02524066, 0.03398973, 0.01999879, 0.0285067 ]), 'std_score_time': array([0.00043206, 0.00042745, 0.00157655, 0.00192361, 0.00141394,\n",
      "       0.0044435 , 0.00757565, 0.00223228, 0.00654391]), 'param_C': masked_array(data=[0.01, 0.01, 0.01, 0.1, 0.1, 0.1, 1, 1, 1],\n",
      "             mask=[False, False, False, False, False, False, False, False,\n",
      "                   False],\n",
      "       fill_value='?',\n",
      "            dtype=object), 'param_gamma': masked_array(data=[0.01, 0.1, 1, 0.01, 0.1, 1, 0.01, 0.1, 1],\n",
      "             mask=[False, False, False, False, False, False, False, False,\n",
      "                   False],\n",
      "       fill_value='?',\n",
      "            dtype=object), 'params': [{'C': 0.01, 'gamma': 0.01}, {'C': 0.01, 'gamma': 0.1}, {'C': 0.01, 'gamma': 1}, {'C': 0.1, 'gamma': 0.01}, {'C': 0.1, 'gamma': 0.1}, {'C': 0.1, 'gamma': 1}, {'C': 1, 'gamma': 0.01}, {'C': 1, 'gamma': 0.1}, {'C': 1, 'gamma': 1}], 'split0_test_score': array([0.12666667, 0.74      , 0.78666667, 0.35333333, 0.78666667,\n",
      "       0.78666667, 0.74      , 0.78666667, 0.78666667]), 'split1_test_score': array([0.12666667, 0.73333333, 0.74666667, 0.39333333, 0.74666667,\n",
      "       0.74666667, 0.73333333, 0.74666667, 0.74666667]), 'split2_test_score': array([0.12666667, 0.70666667, 0.69333333, 0.4       , 0.69333333,\n",
      "       0.69333333, 0.70666667, 0.69333333, 0.69333333]), 'split3_test_score': array([0.12666667, 0.76      , 0.78      , 0.41333333, 0.78      ,\n",
      "       0.78      , 0.76      , 0.78      , 0.78      ]), 'mean_test_score': array([0.12666667, 0.735     , 0.75166667, 0.39      , 0.75166667,\n",
      "       0.75166667, 0.735     , 0.75166667, 0.75166667]), 'std_test_score': array([0.        , 0.01907587, 0.03693087, 0.02236068, 0.03693087,\n",
      "       0.03693087, 0.01907587, 0.03693087, 0.03693087]), 'rank_test_score': array([9, 6, 1, 8, 1, 1, 6, 1, 1])} \n",
      "\n",
      "Best parameters set found: \n",
      " {'C': 0.01, 'gamma': 1} \n",
      "\n",
      "Score with best parameters: \n",
      " 0.7516666666666667 \n",
      "\n",
      "\n",
      "All scores on the grid:\n",
      "\n",
      " [0.12666667 0.74       0.78666667 0.35333333 0.78666667 0.78666667\n",
      " 0.74       0.78666667 0.78666667]\n",
      "\n",
      " [0.12666667 0.73333333 0.74666667 0.39333333 0.74666667 0.74666667\n",
      " 0.73333333 0.74666667 0.74666667]\n",
      "\n",
      " [0.12666667 0.70666667 0.69333333 0.4        0.69333333 0.69333333\n",
      " 0.70666667 0.69333333 0.69333333]\n",
      "\n",
      " [0.12666667 0.76       0.78       0.41333333 0.78       0.78\n",
      " 0.76       0.78       0.78      ]\n"
     ]
    }
   ],
   "source": [
    "# parameters for poly with degree 2 kernel\n",
    "parameters = {'C': [0.01, 0.1, 1],'gamma':[0.01,0.1,1]}\n",
    "\n",
    "#run SVM with poly of degree 2 kernel\n",
    "poly = GridSearchCV(SVC(kernel = 'poly', degree = 2), parameters, cv = 4).fit(X_train, y_train)\n",
    "\n",
    "print ('RESULTS FOR POLY DEGREE=2 KERNEL', '\\n', poly.cv_results_, '\\n')\n",
    "\n",
    "print(\"Best parameters set found:\", '\\n', poly.best_params_, '\\n')\n",
    "\n",
    "print(\"Score with best parameters:\", '\\n', poly.best_score_, '\\n')\n",
    "\n",
    "print(\"\\nAll scores on the grid:\")\n",
    "print('\\n', poly.cv_results_['split0_test_score'])\n",
    "print('\\n', poly.cv_results_['split1_test_score'])\n",
    "print('\\n', poly.cv_results_['split2_test_score'])\n",
    "print('\\n', poly.cv_results_['split3_test_score'])"
   ]
  },
  {
   "cell_type": "markdown",
   "metadata": {},
   "source": [
    "## TO DO 3\n",
    "\n",
    "Now let's try a higher degree for the polynomial kernel (e.g., 3rd degree)."
   ]
  },
  {
   "cell_type": "code",
   "execution_count": 10,
   "metadata": {},
   "outputs": [
    {
     "name": "stdout",
     "output_type": "stream",
     "text": [
      "RESULTS FOR POLY DEGREE= 3  KERNEL \n",
      " {'mean_fit_time': array([0.07025367, 0.0637486 , 0.06650287, 0.06525213, 0.06475216,\n",
      "       0.06600052, 0.06075656, 0.06299663, 0.06099766]), 'std_fit_time': array([0.00396639, 0.00147917, 0.00383749, 0.00215986, 0.0049181 ,\n",
      "       0.00339779, 0.00082164, 0.00158099, 0.00070917]), 'mean_score_time': array([0.02724588, 0.02250051, 0.02224874, 0.02600592, 0.02150232,\n",
      "       0.02174515, 0.02225447, 0.02150524, 0.02174735]), 'std_score_time': array([0.00129312, 0.00149977, 0.00163063, 0.00122475, 0.00050302,\n",
      "       0.00082755, 0.00043307, 0.00050283, 0.00083012]), 'param_C': masked_array(data=[0.01, 0.01, 0.01, 0.1, 0.1, 0.1, 1, 1, 1],\n",
      "             mask=[False, False, False, False, False, False, False, False,\n",
      "                   False],\n",
      "       fill_value='?',\n",
      "            dtype=object), 'param_gamma': masked_array(data=[0.01, 0.1, 1, 0.01, 0.1, 1, 0.01, 0.1, 1],\n",
      "             mask=[False, False, False, False, False, False, False, False,\n",
      "                   False],\n",
      "       fill_value='?',\n",
      "            dtype=object), 'params': [{'C': 0.01, 'gamma': 0.01}, {'C': 0.01, 'gamma': 0.1}, {'C': 0.01, 'gamma': 1}, {'C': 0.1, 'gamma': 0.01}, {'C': 0.1, 'gamma': 0.1}, {'C': 0.1, 'gamma': 1}, {'C': 1, 'gamma': 0.01}, {'C': 1, 'gamma': 0.1}, {'C': 1, 'gamma': 1}], 'split0_test_score': array([0.12666667, 0.65333333, 0.65333333, 0.29333333, 0.65333333,\n",
      "       0.65333333, 0.66      , 0.65333333, 0.65333333]), 'split1_test_score': array([0.12666667, 0.7       , 0.68      , 0.30666667, 0.68      ,\n",
      "       0.68      , 0.68      , 0.68      , 0.68      ]), 'split2_test_score': array([0.12666667, 0.64666667, 0.64666667, 0.30666667, 0.64666667,\n",
      "       0.64666667, 0.64      , 0.64666667, 0.64666667]), 'split3_test_score': array([0.12666667, 0.74      , 0.71333333, 0.34      , 0.71333333,\n",
      "       0.71333333, 0.72      , 0.71333333, 0.71333333]), 'mean_test_score': array([0.12666667, 0.685     , 0.67333333, 0.31166667, 0.67333333,\n",
      "       0.67333333, 0.675     , 0.67333333, 0.67333333]), 'std_test_score': array([0.        , 0.03782269, 0.02624669, 0.01724013, 0.02624669,\n",
      "       0.02624669, 0.0295804 , 0.02624669, 0.02624669]), 'rank_test_score': array([9, 1, 3, 8, 3, 3, 2, 3, 3])} \n",
      "\n",
      "Best parameters set found: \n",
      " {'C': 0.01, 'gamma': 0.1} \n",
      "\n",
      "Score with best parameters: \n",
      " 0.685 \n",
      "\n",
      "\n",
      "All scores on the grid:\n",
      "\n",
      " [0.12666667 0.65333333 0.65333333 0.29333333 0.65333333 0.65333333\n",
      " 0.66       0.65333333 0.65333333]\n",
      "\n",
      " [0.12666667 0.7        0.68       0.30666667 0.68       0.68\n",
      " 0.68       0.68       0.68      ]\n",
      "\n",
      " [0.12666667 0.64666667 0.64666667 0.30666667 0.64666667 0.64666667\n",
      " 0.64       0.64666667 0.64666667]\n",
      "\n",
      " [0.12666667 0.74       0.71333333 0.34       0.71333333 0.71333333\n",
      " 0.72       0.71333333 0.71333333]\n"
     ]
    }
   ],
   "source": [
    "# parameters for poly with higher degree kernel\n",
    "parameters = {'C': [0.01, 0.1, 1],'gamma':[0.01,0.1,1]}\n",
    "\n",
    "#run SVM with poly of higher degree kernel\n",
    "degree = 3\n",
    "\n",
    "poly = GridSearchCV(SVC(kernel = 'poly', degree = degree), parameters, cv = 4).fit(X_train, y_train)\n",
    "\n",
    "print ('RESULTS FOR POLY DEGREE=', degree, ' KERNEL', '\\n', poly.cv_results_, '\\n')\n",
    "\n",
    "print(\"Best parameters set found:\", '\\n', poly.best_params_, '\\n')\n",
    "\n",
    "print(\"Score with best parameters:\", '\\n', poly.best_score_, '\\n')\n",
    "\n",
    "print(\"\\nAll scores on the grid:\")\n",
    "print('\\n', poly.cv_results_['split0_test_score'])\n",
    "print('\\n', poly.cv_results_['split1_test_score'])\n",
    "print('\\n', poly.cv_results_['split2_test_score'])\n",
    "print('\\n', poly.cv_results_['split3_test_score'])"
   ]
  },
  {
   "cell_type": "markdown",
   "metadata": {},
   "source": [
    "## TO DO 4\n",
    "Pick a model for the Radial Basis Function kernel:"
   ]
  },
  {
   "cell_type": "code",
   "execution_count": 11,
   "metadata": {},
   "outputs": [
    {
     "name": "stdout",
     "output_type": "stream",
     "text": [
      "RESULTS FOR rbf KERNEL \n",
      " {'mean_fit_time': array([0.07449853, 0.07000089, 0.07450122, 0.07475549, 0.06525505,\n",
      "       0.07075155, 0.0787527 , 0.07726365, 0.05101311, 0.0735209 ,\n",
      "       0.07950151, 0.07749927, 0.05424643, 0.07224751, 0.0785085 ,\n",
      "       0.07675344]), 'std_fit_time': array([0.00269274, 0.0012267 , 0.00165927, 0.00108253, 0.00363695,\n",
      "       0.00109053, 0.00191827, 0.0016467 , 0.00245497, 0.00086887,\n",
      "       0.00438649, 0.00049783, 0.00082777, 0.001303  , 0.00438137,\n",
      "       0.00082576]), 'mean_score_time': array([0.04674822, 0.0429976 , 0.04424864, 0.04499424, 0.04349393,\n",
      "       0.04275769, 0.04325223, 0.04423881, 0.03948921, 0.04248387,\n",
      "       0.043248  , 0.04324764, 0.03800178, 0.040501  , 0.044999  ,\n",
      "       0.04399782]), 'std_score_time': array([5.44909044e-03, 2.91514856e-06, 1.29983949e-03, 2.33602315e-03,\n",
      "       1.11362000e-03, 1.47151791e-03, 4.28282297e-04, 1.63717256e-03,\n",
      "       1.65965579e-03, 8.58645892e-04, 4.29299329e-04, 4.26891491e-04,\n",
      "       7.08491387e-04, 8.64794595e-04, 2.00379798e-03, 7.10516095e-04]), 'param_C': masked_array(data=[0.1, 0.1, 0.1, 0.1, 1, 1, 1, 1, 10, 10, 10, 10, 100,\n",
      "                   100, 100, 100],\n",
      "             mask=[False, False, False, False, False, False, False, False,\n",
      "                   False, False, False, False, False, False, False, False],\n",
      "       fill_value='?',\n",
      "            dtype=object), 'param_gamma': masked_array(data=[0.001, 0.01, 0.1, 1, 0.001, 0.01, 0.1, 1, 0.001, 0.01,\n",
      "                   0.1, 1, 0.001, 0.01, 0.1, 1],\n",
      "             mask=[False, False, False, False, False, False, False, False,\n",
      "                   False, False, False, False, False, False, False, False],\n",
      "       fill_value='?',\n",
      "            dtype=object), 'params': [{'C': 0.1, 'gamma': 0.001}, {'C': 0.1, 'gamma': 0.01}, {'C': 0.1, 'gamma': 0.1}, {'C': 0.1, 'gamma': 1}, {'C': 1, 'gamma': 0.001}, {'C': 1, 'gamma': 0.01}, {'C': 1, 'gamma': 0.1}, {'C': 1, 'gamma': 1}, {'C': 10, 'gamma': 0.001}, {'C': 10, 'gamma': 0.01}, {'C': 10, 'gamma': 0.1}, {'C': 10, 'gamma': 1}, {'C': 100, 'gamma': 0.001}, {'C': 100, 'gamma': 0.01}, {'C': 100, 'gamma': 0.1}, {'C': 100, 'gamma': 1}], 'split0_test_score': array([0.12666667, 0.24666667, 0.12666667, 0.12666667, 0.50666667,\n",
      "       0.74      , 0.13333333, 0.12666667, 0.72666667, 0.8       ,\n",
      "       0.14      , 0.12666667, 0.72      , 0.8       , 0.14      ,\n",
      "       0.12666667]), 'split1_test_score': array([0.12666667, 0.28666667, 0.12666667, 0.12666667, 0.51333333,\n",
      "       0.78666667, 0.12666667, 0.12666667, 0.73333333, 0.82666667,\n",
      "       0.13333333, 0.12666667, 0.75333333, 0.82666667, 0.13333333,\n",
      "       0.12666667]), 'split2_test_score': array([0.12666667, 0.24666667, 0.12666667, 0.12666667, 0.51333333,\n",
      "       0.71333333, 0.20666667, 0.12666667, 0.68      , 0.75333333,\n",
      "       0.20666667, 0.12666667, 0.7       , 0.75333333, 0.20666667,\n",
      "       0.12666667]), 'split3_test_score': array([0.12666667, 0.22666667, 0.12666667, 0.12666667, 0.54      ,\n",
      "       0.8       , 0.16      , 0.12666667, 0.79333333, 0.83333333,\n",
      "       0.16666667, 0.12666667, 0.77333333, 0.83333333, 0.16666667,\n",
      "       0.12666667]), 'mean_test_score': array([0.12666667, 0.25166667, 0.12666667, 0.12666667, 0.51833333,\n",
      "       0.76      , 0.15666667, 0.12666667, 0.73333333, 0.80333333,\n",
      "       0.16166667, 0.12666667, 0.73666667, 0.80333333, 0.16166667,\n",
      "       0.12666667]), 'std_test_score': array([0.        , 0.02179449, 0.        , 0.        , 0.01280191,\n",
      "       0.03496029, 0.0314466 , 0.        , 0.04027682, 0.0314466 ,\n",
      "       0.02881936, 0.        , 0.02848001, 0.0314466 , 0.02881936,\n",
      "       0.        ]), 'rank_test_score': array([11,  7, 11, 11,  6,  3, 10, 11,  5,  1,  8, 11,  4,  1,  8, 11])} \n",
      "\n",
      "Best parameters set found: \n",
      " {'C': 10, 'gamma': 0.01} \n",
      "\n",
      "Score with best parameters: \n",
      " 0.8033333333333333 \n",
      "\n",
      "\n",
      "All scores on the grid:\n",
      "\n",
      " [0.12666667 0.24666667 0.12666667 0.12666667 0.50666667 0.74\n",
      " 0.13333333 0.12666667 0.72666667 0.8        0.14       0.12666667\n",
      " 0.72       0.8        0.14       0.12666667]\n",
      "\n",
      " [0.12666667 0.28666667 0.12666667 0.12666667 0.51333333 0.78666667\n",
      " 0.12666667 0.12666667 0.73333333 0.82666667 0.13333333 0.12666667\n",
      " 0.75333333 0.82666667 0.13333333 0.12666667]\n",
      "\n",
      " [0.12666667 0.24666667 0.12666667 0.12666667 0.51333333 0.71333333\n",
      " 0.20666667 0.12666667 0.68       0.75333333 0.20666667 0.12666667\n",
      " 0.7        0.75333333 0.20666667 0.12666667]\n",
      "\n",
      " [0.12666667 0.22666667 0.12666667 0.12666667 0.54       0.8\n",
      " 0.16       0.12666667 0.79333333 0.83333333 0.16666667 0.12666667\n",
      " 0.77333333 0.83333333 0.16666667 0.12666667]\n"
     ]
    }
   ],
   "source": [
    "# parameters for rbf SVM\n",
    "parameters = {'C': [0.1, 1, 10, 100],'gamma':[0.001, 0.01, 0.1,1]}\n",
    "\n",
    "#run SVM with rbf kernel\n",
    "rbf = GridSearchCV(SVC(kernel = 'rbf'), parameters, cv = 4).fit(X_train, y_train)\n",
    "\n",
    "print ('RESULTS FOR rbf KERNEL', '\\n', rbf.cv_results_, '\\n')\n",
    "\n",
    "print(\"Best parameters set found:\", '\\n', rbf.best_params_, '\\n')\n",
    "\n",
    "print(\"Score with best parameters:\", '\\n', rbf.best_score_, '\\n')\n",
    "\n",
    "print(\"\\nAll scores on the grid:\")\n",
    "print('\\n', rbf.cv_results_['split0_test_score'])\n",
    "print('\\n', rbf.cv_results_['split1_test_score'])\n",
    "print('\\n', rbf.cv_results_['split2_test_score'])\n",
    "print('\\n', rbf.cv_results_['split3_test_score'])\n"
   ]
  },
  {
   "cell_type": "markdown",
   "metadata": {},
   "source": [
    "## QUESTION 1\n",
    "What do you observe when using linear, polynomial and RBF kernels on this dataset ?\n",
    "\n",
    "**Answer question 1** ..."
   ]
  },
  {
   "cell_type": "markdown",
   "metadata": {},
   "source": [
    "## TO DO 5\n",
    "Report here the best SVM kernel and parameters"
   ]
  },
  {
   "cell_type": "code",
   "execution_count": 12,
   "metadata": {},
   "outputs": [
    {
     "name": "stdout",
     "output_type": "stream",
     "text": [
      "Best SVM training error: 0.013333\n",
      "Best SVM test error: 0.195750\n"
     ]
    }
   ],
   "source": [
    "#get training and test error for the best SVM model from CV\n",
    "best_SVM = SVC(kernel = 'rbf').fit(X_train, y_train)\n",
    "\n",
    "# (error is 1 - svm.score)\n",
    "training_error = 1. - best_SVM.score(X_train, y_train)\n",
    "test_error = 1. - best_SVM.score(X_test, y_test)\n",
    "\n",
    "print (\"Best SVM training error: %f\" % training_error)\n",
    "print (\"Best SVM test error: %f\" % test_error)"
   ]
  },
  {
   "cell_type": "markdown",
   "metadata": {},
   "source": [
    "## TO DO 6\n",
    "\n",
    "Analyze how the gamma parameter (inversely proportional to standard deviation of Gaussian Kernel) impact the performances of the classifier"
   ]
  },
  {
   "cell_type": "code",
   "execution_count": 13,
   "metadata": {},
   "outputs": [
    {
     "name": "stdout",
     "output_type": "stream",
     "text": [
      "[1.e-05 1.e-04 1.e-03 1.e-02 1.e-01 1.e+00 1.e+01 1.e+02]\n"
     ]
    }
   ],
   "source": [
    "#Test with different values of gamma\n",
    "\n",
    "# Set gamma values\n",
    "gamma_values = np.logspace(-5,2,8)\n",
    "print(gamma_values)\n"
   ]
  },
  {
   "cell_type": "code",
   "execution_count": 14,
   "metadata": {},
   "outputs": [
    {
     "data": {
      "text/plain": "<Figure size 1080x360 with 2 Axes>",
      "image/png": "[encoded data removed]"
     },
     "metadata": {
      "needs_background": "light"
     },
     "output_type": "display_data"
    }
   ],
   "source": [
    "# Try the SVM with the previously set values of gamma\n",
    "# use rbf kernel and C=1\n",
    "\n",
    "train_acc_list, test_acc_list = [], []\n",
    "\n",
    "    \n",
    "# ADD YOUR CODE TO TRAIN THE SVM MULTIPLE TIMES WITH THE DIFFERENT VALUES OF GAMMA\n",
    "# PLACE THE TRAIN AND TEST ACCURACY FOR EACH TEST IN THE TRAIN AND TEST ACCURACY LISTS\n",
    "\n",
    "for i in gamma_values:\n",
    "    svm = SVC(C = 1, gamma = i, kernel = 'rbf').fit(X_train, y_train)\n",
    "    train_acc_list.append(svm.score(X_train, y_train))\n",
    "    test_acc_list.append(svm.score(X_test, y_test))\n",
    "\n",
    "# Plot\n",
    "fig, ax = plt.subplots(1,2, figsize=(15,5))\n",
    "\n",
    "ax[0].plot(gamma_values, train_acc_list)\n",
    "ax[0].set_xscale('log')\n",
    "ax[0].set_xlabel('gamma')\n",
    "ax[0].set_ylabel('Train accuracy')\n",
    "ax[0].grid(True)\n",
    "\n",
    "ax[1].plot(gamma_values, test_acc_list)\n",
    "ax[1].set_xscale('log')\n",
    "ax[1].set_xlabel('gamma')\n",
    "ax[1].set_ylabel('Test accuracy')\n",
    "ax[1].grid(True)\n",
    "\n",
    "\n",
    "plt.show()"
   ]
  },
  {
   "cell_type": "markdown",
   "metadata": {},
   "source": [
    "## QUESTION 2\n",
    "How do the train and test error change when changing gamma ? Which is the best value of gamma ? \n",
    "Connect your answers to the discussion about the overfitting issue.\n",
    "\n",
    "**Answer question 2**..."
   ]
  },
  {
   "cell_type": "markdown",
   "metadata": {},
   "source": [
    "## More data\n",
    "Now let's do the same but using more data points for training.\n",
    "\n",
    "\n",
    "Choose a new number of data points."
   ]
  },
  {
   "cell_type": "code",
   "execution_count": 15,
   "metadata": {},
   "outputs": [
    {
     "name": "stdout",
     "output_type": "stream",
     "text": [
      "Labels in training dataset:  [0 1 2 3 4 5 6 7 8 9]\n",
      "Frequencies in training dataset:  [187 204 201 217 194 190 206 213 185 203]\n"
     ]
    }
   ],
   "source": [
    "X = X[permutation]\n",
    "y = y[permutation]\n",
    "\n",
    "m_training = 2000 # TODO number of data points, adjust depending on the capabilities of your PC\n",
    "\n",
    "X_train, X_test = X[:m_training], X[m_training:]\n",
    "y_train, y_test = y[:m_training], y[m_training:]\n",
    "\n",
    "labels, freqs = np.unique(y_train, return_counts=True)\n",
    "print(\"Labels in training dataset: \", labels)\n",
    "print(\"Frequencies in training dataset: \", freqs)"
   ]
  },
  {
   "cell_type": "markdown",
   "metadata": {},
   "source": [
    "## TO DO 7\n",
    "\n",
    "Let's try to use SVM with parameters obtained from the best model for $m_{training} =  2000$. Since it may take a long time to run, you can decide to just let it run for some time and stop it if it does not complete. If you decide to do this, report it in the cell below."
   ]
  },
  {
   "cell_type": "code",
   "execution_count": 16,
   "metadata": {
    "scrolled": true
   },
   "outputs": [
    {
     "name": "stdout",
     "output_type": "stream",
     "text": [
      "Best SVM training error: 0.019500\n",
      "Best SVM test error: 0.121897\n"
     ]
    }
   ],
   "source": [
    "#get training and test error for the best SVM model from CV\n",
    "\n",
    "best_SVM = SVC(kernel = 'rbf').fit(X_train, y_train)\n",
    "\n",
    "# (error is 1 - svm.score)\n",
    "training_error = 1. - best_SVM.score(X_train, y_train)\n",
    "test_error = 1. - best_SVM.score(X_test, y_test)\n",
    "\n",
    "print (\"Best SVM training error: %f\" % training_error)\n",
    "print (\"Best SVM test error: %f\" % test_error)"
   ]
  },
  {
   "cell_type": "markdown",
   "metadata": {},
   "source": [
    "Just for comparison, let's also use logistic regression \n",
    "\n",
    "## TO DO 8 Try first without regularization (use a very large large C)¶"
   ]
  },
  {
   "cell_type": "code",
   "execution_count": 17,
   "metadata": {},
   "outputs": [
    {
     "name": "stdout",
     "output_type": "stream",
     "text": [
      "Best logistic regression training error: 0.000000\n",
      "Best logistic regression test error: 0.299586\n"
     ]
    }
   ],
   "source": [
    "from sklearn import linear_model\n",
    "\n",
    "linear_mod = linear_model.LogisticRegression(C = 100000000, solver = 'newton-cg', multi_class = 'auto', penalty = 'l2').fit(X_train, y_train)\n",
    "\n",
    "training_error = 1. - linear_mod.score(X_train, y_train)\n",
    "test_error = 1. - linear_mod.score(X_test, y_test)\n",
    "\n",
    "print (\"Best logistic regression training error: %f\" % training_error)\n",
    "print (\"Best logistic regression test error: %f\" % test_error)"
   ]
  },
  {
   "cell_type": "markdown",
   "metadata": {},
   "source": [
    "## TO DO 9 Try  with regularization (use C=1)¶"
   ]
  },
  {
   "cell_type": "code",
   "execution_count": 18,
   "metadata": {},
   "outputs": [
    {
     "name": "stdout",
     "output_type": "stream",
     "text": [
      "Best regularized logistic regression training error: 0.002000\n",
      "Best regularized logistic regression test error: 0.267931\n"
     ]
    }
   ],
   "source": [
    "linear_mod = linear_model.LogisticRegression(C = 1, solver = 'newton-cg', multi_class = 'auto', penalty = 'l2').fit(X_train, y_train)\n",
    "\n",
    "training_error = 1. - linear_mod.score(X_train, y_train)\n",
    "test_error = 1. - linear_mod.score(X_test, y_test)\n",
    "\n",
    "print (\"Best regularized logistic regression training error: %f\" % training_error)\n",
    "print (\"Best regularized logistic regression test error: %f\" % test_error)"
   ]
  },
  {
   "cell_type": "markdown",
   "metadata": {},
   "source": [
    "## QUESTION 3\n",
    "Compare and discuss:\n",
    "- the results from SVM with m=600 and with m=2000 training data points. If you stopped the SVM, include such aspect in your comparison.\n",
    "- the results of SVM and of Logistic Regression\n",
    "\n",
    "**Answer question 3**..."
   ]
  },
  {
   "cell_type": "markdown",
   "metadata": {},
   "source": [
    "## TO DO 10\n",
    "Plot an item of clothing that is missclassified by logistic regression and correctly classified by SVM."
   ]
  },
  {
   "cell_type": "code",
   "execution_count": null,
   "metadata": {
    "pycharm": {
     "is_executing": true
    }
   },
   "outputs": [],
   "source": [
    "LR_prediction = linear_mod.predict(X_test)\n",
    "SVM_prediction = best_SVM.predict(X_test)\n",
    "\n",
    "j = 0\n",
    "while j < len(LR_prediction):\n",
    "    if SVM_prediction[j] == y_test[j] != LR_prediction[j]:\n",
    "        break\n",
    "    else:\n",
    "        j += 1\n",
    "\n",
    "print('y_test', y_test[j])\n",
    "print('SVM_prediction', SVM_prediction[j])\n",
    "print('LR LR_prediction', LR_prediction[j])\n",
    "plot_input(X_test, y_test, j)"
   ]
  },
  {
   "cell_type": "markdown",
   "metadata": {},
   "source": [
    "## TO DO 11\n",
    "Plot the confusion matrix for the SVM classifier and for logistic regression.\n",
    "The confusion matrix has one column for each predicted label and one row for each true label. \n",
    "It shows for each class in the corresponding row how many samples belonging to that class gets each possible output label.\n",
    "Notice that the diagonal contains the correctly classified samples, while the other cells correspond to errors.\n",
    "You can obtain it with the sklearn.metrics.confusion_matrix function (see the documentation).\n",
    "Try also to normalize the confusion matrix by the number of samples in each class in order to measure the accuracy on each single class.\n"
   ]
  },
  {
   "cell_type": "code",
   "execution_count": 19,
   "metadata": {},
   "outputs": [
    {
     "name": "stdout",
     "output_type": "stream",
     "text": [
      "Labels and frequencies in test set:  [5813 5796 5799 5783 5806 5810 5794 5787 5815 5797]\n",
      "\n",
      " Confusion matrix SVM  \n",
      " \n",
      " [[5325    7    7   34  153   48   12  134   62   31]\n",
      " [  29 4943  215   71  135    9  150    3   75  166]\n",
      " [   0  115 4814  172   72   12  340   22  167   85]\n",
      " [   9   76  101 5325   53   24   19   32  127   17]\n",
      " [ 178  112  170   85 4969   15   83   51   76   67]\n",
      " [  49   64  181  198   70 5042   69   28   90   19]\n",
      " [  10  101  419   42  166    5 4913   60   42   36]\n",
      " [  32   28   72   67  184    8   51 5258   57   30]\n",
      " [  46  181   88   94   31   31  174    8 5131   31]\n",
      " [  16  112  225   36  112   11   13   17   45 5210]]\n",
      "\n",
      " Confusion matrix SVM (normalized)   \n",
      " \n",
      " [[0.92 0.   0.   0.01 0.03 0.01 0.   0.02 0.01 0.01]\n",
      " [0.01 0.85 0.04 0.01 0.02 0.   0.03 0.   0.01 0.03]\n",
      " [0.   0.02 0.83 0.03 0.01 0.   0.06 0.   0.03 0.01]\n",
      " [0.   0.01 0.02 0.92 0.01 0.   0.   0.01 0.02 0.  ]\n",
      " [0.03 0.02 0.03 0.01 0.86 0.   0.01 0.01 0.01 0.01]\n",
      " [0.01 0.01 0.03 0.03 0.01 0.87 0.01 0.   0.02 0.  ]\n",
      " [0.   0.02 0.07 0.01 0.03 0.   0.85 0.01 0.01 0.01]\n",
      " [0.01 0.   0.01 0.01 0.03 0.   0.01 0.91 0.01 0.01]\n",
      " [0.01 0.03 0.02 0.02 0.01 0.01 0.03 0.   0.88 0.01]\n",
      " [0.   0.02 0.04 0.01 0.02 0.   0.   0.   0.01 0.9 ]]\n",
      "\n",
      " Confusion matrix LR  \n",
      " \n",
      " [[4971   11   20   72  186  196   11  161   56  129]\n",
      " [  53 3917  538  221  202  138  243   26  207  251]\n",
      " [   6  338 3745  168  166  162  629   50  348  187]\n",
      " [  26  108  138 4488  118  419   83  154  169   80]\n",
      " [ 250  260  305  236 3921  106  241  140   85  262]\n",
      " [ 136   89  316  309  116 4470   83   71  181   39]\n",
      " [  31  246  542  120  200  114 4177   90  192   82]\n",
      " [  99   35  133  164  215  238  147 4538  130   88]\n",
      " [ 100  321  488  225  139  204  261   10 3956  111]\n",
      " [  89  250  554   83  201  115   62   73   93 4277]]\n",
      "\n",
      " Confusion matrix LR (normalized)   \n",
      " \n",
      " [[0.86 0.   0.   0.01 0.03 0.03 0.   0.03 0.01 0.02]\n",
      " [0.01 0.68 0.09 0.04 0.03 0.02 0.04 0.   0.04 0.04]\n",
      " [0.   0.06 0.65 0.03 0.03 0.03 0.11 0.01 0.06 0.03]\n",
      " [0.   0.02 0.02 0.78 0.02 0.07 0.01 0.03 0.03 0.01]\n",
      " [0.04 0.04 0.05 0.04 0.68 0.02 0.04 0.02 0.01 0.05]\n",
      " [0.02 0.02 0.05 0.05 0.02 0.77 0.01 0.01 0.03 0.01]\n",
      " [0.01 0.04 0.09 0.02 0.03 0.02 0.72 0.02 0.03 0.01]\n",
      " [0.02 0.01 0.02 0.03 0.04 0.04 0.03 0.78 0.02 0.02]\n",
      " [0.02 0.06 0.08 0.04 0.02 0.04 0.04 0.   0.68 0.02]\n",
      " [0.02 0.04 0.1  0.01 0.03 0.02 0.01 0.01 0.02 0.74]]\n"
     ]
    }
   ],
   "source": [
    "np.set_printoptions(precision=2, suppress=True) # for better aligned printing of confusion matrix use floatmode='fixed'\n",
    "\n",
    "u, counts = np.unique(y_test, return_counts=True)\n",
    "print(\"Labels and frequencies in test set: \", counts)\n",
    "\n",
    "confusion_SVM = skm.confusion_matrix(y_test, best_SVM.predict(X_test))\n",
    "print(\"\\n Confusion matrix SVM  \\n \\n\", confusion_SVM)\n",
    "print(\"\\n Confusion matrix SVM (normalized)   \\n \\n\", confusion_SVM /counts[:,None] )\n",
    "\n",
    "confusion_LR = skm.confusion_matrix(y_test, linear_mod.predict(X_test))\n",
    "print(\"\\n Confusion matrix LR  \\n \\n\", confusion_LR)\n",
    "print(\"\\n Confusion matrix LR (normalized)   \\n \\n\", confusion_LR /counts[:,None] )"
   ]
  },
  {
   "cell_type": "code",
   "execution_count": 20,
   "metadata": {},
   "outputs": [
    {
     "name": "stdout",
     "output_type": "stream",
     "text": [
      "\n",
      " Confusion matrix SVM (normalized)   \n",
      " \n",
      " [[0.92 0.   0.   0.01 0.03 0.01 0.   0.02 0.01 0.01]\n",
      " [0.01 0.85 0.04 0.01 0.02 0.   0.03 0.   0.01 0.03]\n",
      " [0.   0.02 0.83 0.03 0.01 0.   0.06 0.   0.03 0.01]\n",
      " [0.   0.01 0.02 0.92 0.01 0.   0.   0.01 0.02 0.  ]\n",
      " [0.03 0.02 0.03 0.01 0.86 0.   0.01 0.01 0.01 0.01]\n",
      " [0.01 0.01 0.03 0.03 0.01 0.87 0.01 0.   0.02 0.  ]\n",
      " [0.   0.02 0.07 0.01 0.03 0.   0.85 0.01 0.01 0.01]\n",
      " [0.01 0.   0.01 0.01 0.03 0.   0.01 0.91 0.01 0.01]\n",
      " [0.01 0.03 0.02 0.02 0.01 0.01 0.03 0.   0.88 0.01]\n",
      " [0.   0.02 0.04 0.01 0.02 0.   0.   0.   0.01 0.9 ]]\n",
      "\n",
      " Confusion matrix LR (normalized)   \n",
      " \n",
      " [[0.86 0.   0.   0.01 0.03 0.03 0.   0.03 0.01 0.02]\n",
      " [0.01 0.68 0.09 0.04 0.03 0.02 0.04 0.   0.04 0.04]\n",
      " [0.   0.06 0.65 0.03 0.03 0.03 0.11 0.01 0.06 0.03]\n",
      " [0.   0.02 0.02 0.78 0.02 0.07 0.01 0.03 0.03 0.01]\n",
      " [0.04 0.04 0.05 0.04 0.68 0.02 0.04 0.02 0.01 0.05]\n",
      " [0.02 0.02 0.05 0.05 0.02 0.77 0.01 0.01 0.03 0.01]\n",
      " [0.01 0.04 0.09 0.02 0.03 0.02 0.72 0.02 0.03 0.01]\n",
      " [0.02 0.01 0.02 0.03 0.04 0.04 0.03 0.78 0.02 0.02]\n",
      " [0.02 0.06 0.08 0.04 0.02 0.04 0.04 0.   0.68 0.02]\n",
      " [0.02 0.04 0.1  0.01 0.03 0.02 0.01 0.01 0.02 0.74]]\n"
     ]
    }
   ],
   "source": [
    "# ADD CODE TO NORMALIZE CONFUSION MATRIX AND PRINT THE NORMALIZED MATRIX\n",
    "print(\"\\n Confusion matrix SVM (normalized)   \\n \\n\", confusion_SVM /counts[:,None] )\n",
    "print(\"\\n Confusion matrix LR (normalized)   \\n \\n\", confusion_LR /counts[:,None] )"
   ]
  },
  {
   "cell_type": "markdown",
   "metadata": {},
   "source": [
    "## QUESTION 4\n",
    "Have a look at the confusion matrices and comment on the obtained accuracies. Why some classes have lower accuracies and others an higher one ? Make some guesses on the possible causes.\n",
    "\n",
    "**Answer question 4**..."
   ]
  },
  {
   "cell_type": "code",
   "execution_count": null,
   "metadata": {},
   "outputs": [],
   "source": []
  }
 ],
 "metadata": {
  "kernelspec": {
   "name": "pycharm-e499d0c9",
   "language": "python",
   "display_name": "PyCharm (machine-learning-exercises)"
  },
  "language_info": {
   "codemirror_mode": {
    "name": "ipython",
    "version": 3
   },
   "file_extension": ".py",
   "mimetype": "text/x-python",
   "name": "python",
   "nbconvert_exporter": "python",
   "pygments_lexer": "ipython3",
   "version": "3.8.5"
  }
 },
 "nbformat": 4,
 "nbformat_minor": 4
}