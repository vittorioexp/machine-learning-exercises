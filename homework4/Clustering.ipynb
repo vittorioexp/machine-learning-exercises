{
 "cells": [
  {
   "cell_type": "markdown",
   "metadata": {},
   "source": [
    "## Clustering: k-means and linkage-based clustering\n",
    "\n",
    "In this notebook we are going to practice with the k-means and the linkage-based (called \"agglomerative\" in scikit learn) clustering algorithms.\n",
    "\n",
    "In particular you are going to implement the k-means algorithm from scratch and to compare the results with the implementation already present in the sklearn library."
   ]
  },
  {
   "cell_type": "code",
   "execution_count": null,
   "metadata": {},
   "outputs": [],
   "source": [
    "# Load the required packages\n",
    "# If a package is missing in your setup, install it with 'conda install <package_name>' \n",
    "# or with 'pip install <package_name>'\n",
    "%matplotlib inline  \n",
    "\n",
    "import numpy as np\n",
    "import scipy as sp\n",
    "import imageio as imio\n",
    "import matplotlib.pyplot as plt\n",
    "\n",
    "import sklearn\n",
    "from sklearn.datasets.samples_generator import make_blobs\n",
    "from sklearn.cluster import KMeans\n",
    "from sklearn.datasets import load_sample_image\n",
    "from skimage import data, color\n",
    "from skimage.transform import rescale, resize, downscale_local_mean\n",
    "\n",
    "from mpl_toolkits.mplot3d import Axes3D #3d plotting functions\n",
    "from matplotlib import pyplot\n",
    "from PIL import Image\n",
    "\n",
    "from copy import deepcopy  #deepcopy ensures that a copy of all the object data is performed (not just the pointers)\n",
    "\n",
    "print ('scikit-learn version: ', sklearn.__version__)"
   ]
  },
  {
   "cell_type": "markdown",
   "metadata": {},
   "source": [
    "## TO DO:\n",
    "    \n",
    "Place your ID number in the ID variable, it will be used as random seed (as usual the random seed can affect a little bit the results, try to change it)"
   ]
  },
  {
   "cell_type": "code",
   "execution_count": null,
   "metadata": {},
   "outputs": [],
   "source": [
    "# fix your ID (\"numero di matricola\") and the seed for random generator\n",
    "ID =   #insert your ID number here\n",
    "np.random.seed(ID)"
   ]
  },
  {
   "cell_type": "code",
   "execution_count": null,
   "metadata": {},
   "outputs": [],
   "source": [
    "# load the provided images and display them (if you like you can experiment with other images)\n",
    "image1 = imio.imread('data/santaclaus2.jpg')\n",
    "image2  = imio.imread(\"data/landscape.jpg\")\n",
    "image3  = imio.imread(\"data/reindeer.jpg\")\n",
    "\n",
    "\n",
    "\n",
    "ax = plt.axes(xticks=[], yticks=[])\n",
    "ax.imshow(image1)\n",
    "plt.show()\n",
    "print(\"Santa Claus image: \",image1.shape)\n",
    "\n",
    "ax2 = plt.axes(xticks=[], yticks=[])\n",
    "ax2.imshow(image2)\n",
    "plt.show()\n",
    "print(\"Landscape image: \",image2.shape)\n",
    "\n",
    "ax3 = plt.axes(xticks=[], yticks=[])\n",
    "ax3.imshow(image3)\n",
    "plt.show()\n",
    "print(\"Reindeer image: \",image3.shape)"
   ]
  },
  {
   "cell_type": "markdown",
   "metadata": {},
   "source": [
    "We are going to start by using the Santa Claus image.\n"
   ]
  },
  {
   "cell_type": "code",
   "execution_count": null,
   "metadata": {},
   "outputs": [],
   "source": [
    "# reshape the data to a matrix of num_pixels x 3 \n",
    "# (divide by 255 to have colors in [0 1] range for plotting functions of sklearn)\n",
    "\n",
    "data = image1.reshape(image1.shape[0]*image1.shape[1], 3)/255\n",
    "\n",
    "print(data.shape)\n",
    "print(data)"
   ]
  },
  {
   "cell_type": "code",
   "execution_count": null,
   "metadata": {},
   "outputs": [],
   "source": [
    "# Plot the points in the 3-dimensional space with normalized intervals between 0 and 1\n",
    "# (corresponding to the three channels of the image, i.e. Red Green and Blue)\n",
    "\n",
    "fig = pyplot.figure()\n",
    "axis = fig.add_subplot(1, 1, 1, projection=\"3d\")\n",
    "r, g, b = list(data[:,0]), list(data[:,1]), list(data[:,2])\n",
    "\n",
    "axis.scatter(r, g, b, c=data, s=5, marker=\"o\")\n",
    "axis.set_xlabel(\"Red\")\n",
    "axis.set_ylabel(\"Green\")\n",
    "axis.set_zlabel(\"Blue\")\n",
    "pyplot.show()"
   ]
  },
  {
   "cell_type": "markdown",
   "metadata": {},
   "source": [
    "## TO DO 1\n",
    "Implement the k-means algorithm manually (**do not use the kmeans function of sklearn and do not download implementations from other web sources**). The inputs to the function is the set of vectors to be clustered and the number of clusters. The output must contain the clusters barycenters, a vector associating each data point to the corresponding cluster and the error (value of the cost function) at each iteration.\n",
    "Additionally, fix a maximum number of iterations of the k-means algorithm (e.g., 50).\n",
    "\n",
    "Be careful about the initalization, you can use some random points from the training set, or get random values but ensure they are in the proper range. Poor initalizations can lead to the failure of the algorithm (in particular check that no cluster is initialized as empty, otherwise the algorithm can not update it)."
   ]
  },
  {
   "cell_type": "code",
   "execution_count": null,
   "metadata": {},
   "outputs": [],
   "source": [
    "def my_kmeans(points, k):\n",
    "    max_iters=50\n",
    "    \n",
    "    # ADD YOUR CODE\n",
    "    \n",
    "    \n",
    "    return centroids, clusters, error\n",
    "\n"
   ]
  },
  {
   "cell_type": "markdown",
   "metadata": {},
   "source": [
    "## TO DO 2:\n",
    "\n",
    "Now try the function you developed on the Santa Claus image with three clusters (k=3). \n",
    "\n",
    "Then plot the data points in the 3-dimensional space, each point must be coloured based on the membership to one of the clusters. Additionally, plot the respective clusters centroids (use a different shape, size or color to highlight the centroids)."
   ]
  },
  {
   "cell_type": "code",
   "execution_count": null,
   "metadata": {},
   "outputs": [],
   "source": [
    "\n",
    "mykmeans_centers,clusters,error =  # ADD YOUR CODE\n",
    "\n",
    "\n",
    "fig = pyplot.figure()\n",
    "axis = fig.add_subplot(1, 1, 1, projection=\"3d\")\n",
    "axis.set_xlabel(\"Red\")\n",
    "axis.set_ylabel(\"Green\")\n",
    "axis.set_zlabel(\"Blue\")\n",
    "axis.scatter(r, g, b, marker=\"o\", c=clusters, s=1, cmap='viridis', zorder=0, alpha=0.5 )\n",
    "axis.scatter(mykmeans_centers[:,0], mykmeans_centers[:,1], mykmeans_centers[:,2], c='red', s=400, zorder=10)\n",
    "pyplot.show()\n"
   ]
  },
  {
   "cell_type": "markdown",
   "metadata": {},
   "source": [
    "### TO DO 3: \n",
    "Plot the value of the error versus the number of iterations"
   ]
  },
  {
   "cell_type": "code",
   "execution_count": null,
   "metadata": {},
   "outputs": [],
   "source": [
    " # ADD YOUR CODE"
   ]
  },
  {
   "cell_type": "markdown",
   "metadata": {},
   "source": [
    "### TO DO 4:\n",
    "Now use the k-means function provided in sklearn. Pass to the function the number of clusters and use multiple random initializations (n_init parameter). Go to the documentation page for further details"
   ]
  },
  {
   "cell_type": "code",
   "execution_count": null,
   "metadata": {},
   "outputs": [],
   "source": [
    "kmeans =  # ADD YOUR CODE\n",
    "\n",
    " # ADD YOUR CODE"
   ]
  },
  {
   "cell_type": "markdown",
   "metadata": {},
   "source": [
    "### TO DO 5:\n",
    "Perform the same plot as above but with the output of the k-means function provided in sklearn."
   ]
  },
  {
   "cell_type": "code",
   "execution_count": null,
   "metadata": {},
   "outputs": [],
   "source": [
    " # ADD YOUR CODE"
   ]
  },
  {
   "cell_type": "markdown",
   "metadata": {},
   "source": [
    "## Question 1: \n",
    "\n",
    "Compare the results obtained with your implementation and with k-means from sklearn. Do you observe any differences, i.e., do the two plots match? \n",
    "\n",
    "[ADD YOUR ANSWER HERE]"
   ]
  },
  {
   "cell_type": "markdown",
   "metadata": {},
   "source": [
    "### TO DO 6:\n",
    "\n",
    "Now display the segmented image based on the 3 clusters found above with both the k-means functions by sklearn and your k-means implementation"
   ]
  },
  {
   "cell_type": "code",
   "execution_count": null,
   "metadata": {},
   "outputs": [],
   "source": [
    " # ADD CODE TO DISPLAY THE IMAGE OBTAINED USING SKLEARN "
   ]
  },
  {
   "cell_type": "code",
   "execution_count": null,
   "metadata": {},
   "outputs": [],
   "source": [
    "# ADD CODE TO DISPLAY THE IMAGE OBTAINED WITH YOUR CODE"
   ]
  },
  {
   "cell_type": "markdown",
   "metadata": {},
   "source": [
    "## Question 2: \n",
    "\n",
    "What do you observe? Do you think clustering is useful for image segmenation? And for image compression?  Comment your answer.\n",
    "\n",
    "[ADD YOUR ANSWER HERE]"
   ]
  },
  {
   "cell_type": "markdown",
   "metadata": {},
   "source": [
    "## TO DO 8:\n",
    "\n",
    "Now load the landscape image (optional: try also with the reindeer image) and segment it using kmeans with k varying from 2 to 15 clusters. You can use the sklearn implementation.\n",
    "\n",
    "Then plot the resulting data points in the 3-dimensional space, each point must be colored based on the cluster membership. \n",
    "Additionally, plot the respective clusters centroids.\n",
    "\n"
   ]
  },
  {
   "cell_type": "code",
   "execution_count": null,
   "metadata": {},
   "outputs": [],
   "source": [
    "data = image2.reshape(image2.shape[0]*image2.shape[1], 3) / 255\n",
    "print(data.shape)\n",
    "\n",
    "\n",
    "for k in range(2,16):\n",
    "    \n",
    "    # ADD YOUR CODE"
   ]
  },
  {
   "cell_type": "markdown",
   "metadata": {},
   "source": [
    "## TO DO 9:\n",
    "\n",
    "Plot for different values of k (e.g. k between 2 and 15) the respective error of the kmeans algorithm "
   ]
  },
  {
   "cell_type": "code",
   "execution_count": null,
   "metadata": {},
   "outputs": [],
   "source": [
    "# ADD YOUR CODE FOR PLOTTING    "
   ]
  },
  {
   "cell_type": "markdown",
   "metadata": {},
   "source": [
    "##  Question 3:\n",
    "\n",
    "Compare the results with different values of k, what do you observe? \n",
    "\n",
    "Analyze also the error, which one do you think is the optimal value of k ?\n",
    "\n",
    "Is there a single, clear answer ? "
   ]
  },
  {
   "cell_type": "markdown",
   "metadata": {},
   "source": [
    "[ADD YOUR ANSWERS HERE]"
   ]
  },
  {
   "cell_type": "markdown",
   "metadata": {},
   "source": [
    "## Linkage-based clustering\n",
    "\n",
    "The second part of the assignment concern instead linkage-based clustering. We will use the AgglomerativeClustering module of sklearn. "
   ]
  },
  {
   "cell_type": "code",
   "execution_count": null,
   "metadata": {},
   "outputs": [],
   "source": [
    "# Import required packages\n",
    "from sklearn.cluster import AgglomerativeClustering\n",
    "from sklearn import metrics, datasets\n",
    "from sklearn.datasets.samples_generator import make_blobs\n",
    "from sklearn.preprocessing import StandardScaler\n",
    "\n",
    "\n",
    "# Load sample data\n",
    "data = np.load('data/moon_data.npz')\n",
    "print(data.files)\n",
    "X = data['X']\n",
    "labels_true = data['labels_true']"
   ]
  },
  {
   "cell_type": "markdown",
   "metadata": {},
   "source": [
    "### TO DO 10: \n",
    "\n",
    "Now exploit the AgglomerativeClustering algorithm on the provided sample data points. Use the \"single\" linkage type that correspond to the minimum distance criteria seen in the lectures and 2 clusters. Notice that the \"single\" option has been introduced recently in sklearn, if you get an error ensure you have a recent version of the library. Plot the resulting clustering."
   ]
  },
  {
   "cell_type": "code",
   "execution_count": null,
   "metadata": {},
   "outputs": [],
   "source": [
    "# #############################################################################\n",
    "# Compute Agglomerative Clustering\n",
    "\n",
    "db = AgglomerativeClustering( #....\n",
    "    \n",
    "# ADD YOUR CODE "
   ]
  },
  {
   "cell_type": "code",
   "execution_count": null,
   "metadata": {},
   "outputs": [],
   "source": [
    "# Plot result\n",
    "\n",
    "# ADD YOUR CODE"
   ]
  },
  {
   "cell_type": "markdown",
   "metadata": {},
   "source": [
    "### TO DO 11: \n",
    "\n",
    "Now try the KMeans with two clusters on the same dataset we used for the AgglomerativeClustering algorithm."
   ]
  },
  {
   "cell_type": "code",
   "execution_count": null,
   "metadata": {},
   "outputs": [],
   "source": [
    "# ADD YOUR CODE\n"
   ]
  },
  {
   "cell_type": "markdown",
   "metadata": {},
   "source": [
    "## Question 4:\n",
    "\n",
    "Compare the results of K-means and Agglomerative Clustering and explain what you observe and why?\n",
    "\n"
   ]
  },
  {
   "cell_type": "markdown",
   "metadata": {},
   "source": [
    "[ADD YOUR ANSWER HERE]"
   ]
  },
  {
   "cell_type": "code",
   "execution_count": null,
   "metadata": {},
   "outputs": [],
   "source": []
  }
 ],
 "metadata": {
  "kernelspec": {
   "display_name": "Python 3",
   "language": "python",
   "name": "python3"
  },
  "language_info": {
   "codemirror_mode": {
    "name": "ipython",
    "version": 3
   },
   "file_extension": ".py",
   "mimetype": "text/x-python",
   "name": "python",
   "nbconvert_exporter": "python",
   "pygments_lexer": "ipython3",
   "version": "3.8.5"
  }
 },
 "nbformat": 4,
 "nbformat_minor": 2
}
